{
 "cells": [
  {
   "cell_type": "code",
   "execution_count": 1,
   "metadata": {
    "collapsed": true
   },
   "outputs": [],
   "source": [
    "from cnn_util import *\n",
    "import pandas as pd\n",
    "import numpy as np\n",
    "import os\n",
    "import cPickle"
   ]
  },
  {
   "cell_type": "markdown",
   "metadata": {},
   "source": [
    "# Make annotation"
   ]
  },
  {
   "cell_type": "code",
   "execution_count": 2,
   "metadata": {
    "collapsed": true
   },
   "outputs": [],
   "source": [
    "annotation_path = '/home/long/Desktop/Final_Project/feats/label_with_images.txt'"
   ]
  },
  {
   "cell_type": "code",
   "execution_count": 3,
   "metadata": {
    "collapsed": true
   },
   "outputs": [],
   "source": [
    "annotations = pd.read_table(annotation_path, sep='//', header=None, names=['caption', 'image'])\n",
    "image_list = annotations['image'].unique()\n",
    "image_df = pd.DataFrame({'image':image_list, 'image_id':range(len(image_list))})\n",
    "annotations = pd.merge(annotations, image_df)"
   ]
  },
  {
   "cell_type": "code",
   "execution_count": 4,
   "metadata": {
    "collapsed": false
   },
   "outputs": [
    {
     "data": {
      "text/plain": [
       "array(['asparagus salmon', 'toast eggs', 'salmon spinach',\n",
       "       'asparagus rice', 'asparagus eggs', 'salmon toast', 'salmon rice',\n",
       "       'avocado asparagus', 'rice egg', 'avocado egg', 'salmon avocado',\n",
       "       'avocado toast', 'spinach rice', 'salmon eggs'], dtype=object)"
      ]
     },
     "execution_count": 4,
     "metadata": {},
     "output_type": "execute_result"
    }
   ],
   "source": [
    "annotations['caption'].unique()"
   ]
  },
  {
   "cell_type": "markdown",
   "metadata": {
    "collapsed": false
   },
   "source": [
    "# Make Output labels"
   ]
  },
  {
   "cell_type": "code",
   "execution_count": 10,
   "metadata": {
    "collapsed": true
   },
   "outputs": [],
   "source": [
    "# [salmon, asparagus, eggs, toast, spinach, rice, avocado]\n",
    "def make_OUTPUT(string):\n",
    "    y = np.zeros(7)\n",
    "    labels = string.split()\n",
    "    for i in range(len(labels)):\n",
    "        if labels[i] == 'salmon':\n",
    "            y[0] = 1\n",
    "        if labels[i] == 'asparagus':\n",
    "            y[1] = 1\n",
    "        if labels[i] == 'eggs':\n",
    "            y[2] = 1\n",
    "        if labels[i] == 'toast':\n",
    "            y[3] = 1\n",
    "        if labels[i] == 'spinach':\n",
    "            y[4] = 1\n",
    "        if labels[i] == 'rice':\n",
    "            y[5] = 1\n",
    "        if labels[i] == 'avocado':\n",
    "            y[6] = 1\n",
    "    return y"
   ]
  },
  {
   "cell_type": "code",
   "execution_count": 12,
   "metadata": {
    "collapsed": false
   },
   "outputs": [],
   "source": [
    "Input_Y = []\n",
    "for i in range(len(annotations['caption'])):\n",
    "    Y = make_OUTPUT(annotations['caption'][i])\n",
    "    Input_Y.append(Y)"
   ]
  },
  {
   "cell_type": "code",
   "execution_count": 16,
   "metadata": {
    "collapsed": false
   },
   "outputs": [],
   "source": [
    "Input_Y = np.asarray(Input_Y)\n",
    "np.save('labels_y', Input_Y)"
   ]
  },
  {
   "cell_type": "markdown",
   "metadata": {
    "collapsed": false
   },
   "source": [
    "# Extract image feature"
   ]
  },
  {
   "cell_type": "code",
   "execution_count": 18,
   "metadata": {
    "collapsed": true
   },
   "outputs": [],
   "source": [
    "food_image_path = '/home/long/Desktop/Final_Project/feats/Raw_images/'"
   ]
  },
  {
   "cell_type": "code",
   "execution_count": 1,
   "metadata": {
    "collapsed": false
   },
   "outputs": [],
   "source": [
    "vgg_model = '/home/long/Desktop/Final_Project/caffe_files/VGG_ILSVRC_19_layers.caffemodel'\n",
    "vgg_deploy = '/home/long/Desktop/Final_Project/caffe_files/VGG_ILSVRC_19_layers_deploy.prototxt'\n",
    "mean = '/home/long/Desktop/Final_Project/caffe_files/ilsvrc_2012_mean.npy'\n",
    "\n",
    "feat_path = '/home/long/Desktop/Final_Project/feats/googlefood.npy'"
   ]
  },
  {
   "cell_type": "code",
   "execution_count": 20,
   "metadata": {
    "collapsed": false
   },
   "outputs": [],
   "source": [
    "cnn = CNN(model=vgg_model, deploy=vgg_deploy, mean = mean, width=224, height=224)"
   ]
  },
  {
   "cell_type": "code",
   "execution_count": 22,
   "metadata": {
    "collapsed": false
   },
   "outputs": [],
   "source": [
    "if not os.path.exists(feat_path):\n",
    "    feats = cnn.get_features(image_list, layers='conv5_3', layer_sizes=[512,14,14])\n",
    "    np.save(feat_path, feats)"
   ]
  },
  {
   "cell_type": "code",
   "execution_count": null,
   "metadata": {
    "collapsed": false
   },
   "outputs": [],
   "source": []
  },
  {
   "cell_type": "markdown",
   "metadata": {
    "collapsed": true
   },
   "source": [
    "# Make Training and testing data"
   ]
  },
  {
   "cell_type": "code",
   "execution_count": 5,
   "metadata": {
    "collapsed": true
   },
   "outputs": [],
   "source": [
    "import numpy as np\n"
   ]
  },
  {
   "cell_type": "code",
   "execution_count": 6,
   "metadata": {
    "collapsed": true
   },
   "outputs": [],
   "source": [
    "feat_path = '/home/long/Desktop/Final_Project/feats/googlefood.npy'\n",
    "annotation_path = '/home/long/Desktop/Final_Project/feats/labels_y.npy'"
   ]
  },
  {
   "cell_type": "code",
   "execution_count": 7,
   "metadata": {
    "collapsed": false
   },
   "outputs": [],
   "source": [
    "feats = np.load(feat_path)"
   ]
  },
  {
   "cell_type": "code",
   "execution_count": 8,
   "metadata": {
    "collapsed": true
   },
   "outputs": [],
   "source": [
    "caption = np.load(annotation_path)"
   ]
  },
  {
   "cell_type": "code",
   "execution_count": 11,
   "metadata": {
    "collapsed": true
   },
   "outputs": [],
   "source": [
    "index = np.arange(len(caption))\n",
    "np.random.shuffle(index)"
   ]
  },
  {
   "cell_type": "code",
   "execution_count": 18,
   "metadata": {
    "collapsed": false
   },
   "outputs": [
    {
     "data": {
      "text/plain": [
       "array([ 202, 1027, 3930, 1531, 1498,   74, 1230, 1258, 3697, 3320])"
      ]
     },
     "execution_count": 18,
     "metadata": {},
     "output_type": "execute_result"
    }
   ],
   "source": [
    "index[:10]"
   ]
  },
  {
   "cell_type": "code",
   "execution_count": 24,
   "metadata": {
    "collapsed": true
   },
   "outputs": [],
   "source": [
    "train_feat = feats[index[:3800]]\n",
    "train_caption = caption[index[:3800]]"
   ]
  },
  {
   "cell_type": "code",
   "execution_count": 25,
   "metadata": {
    "collapsed": false
   },
   "outputs": [],
   "source": [
    "test_feat = feats[index[3800:]]\n",
    "test_caption = caption[index[3800:]]"
   ]
  },
  {
   "cell_type": "code",
   "execution_count": null,
   "metadata": {
    "collapsed": false
   },
   "outputs": [],
   "source": [
    "np.save('train_feat', train_feat)\n",
    "np.save('train_feat', train_feat)"
   ]
  },
  {
   "cell_type": "code",
   "execution_count": null,
   "metadata": {
    "collapsed": true
   },
   "outputs": [],
   "source": []
  }
 ],
 "metadata": {
  "kernelspec": {
   "display_name": "Python 2",
   "language": "python",
   "name": "python2"
  },
  "language_info": {
   "codemirror_mode": {
    "name": "ipython",
    "version": 2
   },
   "file_extension": ".py",
   "mimetype": "text/x-python",
   "name": "python",
   "nbconvert_exporter": "python",
   "pygments_lexer": "ipython2",
   "version": "2.7.6"
  }
 },
 "nbformat": 4,
 "nbformat_minor": 0
}
