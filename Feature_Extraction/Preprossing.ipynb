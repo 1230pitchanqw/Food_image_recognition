{
 "cells": [
  {
   "cell_type": "code",
   "execution_count": 2,
   "metadata": {
    "collapsed": false
   },
   "outputs": [],
   "source": [
    "import os\n",
    "from urllib import urlopen \n",
    "from bs4 import BeautifulSoup\n",
    "import Image\n",
    "path = '/home/long/Desktop/Final_Project/feats/Raw_images/'\n",
    "\n",
    "list_2 = []\n",
    "\n",
    "for filename in os.listdir(path):\n",
    "    description = filename.replace(\"_\", \"\")\n",
    "    description = description.replace(\"and\", \" \")\n",
    "    path_image = path+filename\n",
    "    for filename in os.listdir(path_image):\n",
    "        \n",
    "        address = path_image +'/'+ filename\n",
    "        jpgfile = Image.open(address)\n",
    "        \n",
    "        if jpgfile.mode != 'RGB':\n",
    "            continue\n",
    "        if jpgfile.mode != 'RGB':\n",
    "            print 1\n",
    "        line = description + \"//\" + address\n",
    "        list_2.append(line)"
   ]
  },
  {
   "cell_type": "code",
   "execution_count": 6,
   "metadata": {
    "collapsed": false
   },
   "outputs": [
    {
     "data": {
      "text/plain": [
       "'salmon eggs///home/long/Desktop/Final_Project/feats/Raw_images/salmon_and_eggs/google-image(0002).jpeg'"
      ]
     },
     "execution_count": 6,
     "metadata": {},
     "output_type": "execute_result"
    }
   ],
   "source": [
    "line"
   ]
  },
  {
   "cell_type": "code",
   "execution_count": 7,
   "metadata": {
    "collapsed": false
   },
   "outputs": [],
   "source": [
    "with open('label_with_images.txt', 'w') as f:\n",
    "    for s in list_2:\n",
    "        f.write(s + '\\n')"
   ]
  },
  {
   "cell_type": "code",
   "execution_count": null,
   "metadata": {
    "collapsed": true
   },
   "outputs": [],
   "source": []
  }
 ],
 "metadata": {
  "kernelspec": {
   "display_name": "Python 2",
   "language": "python",
   "name": "python2"
  },
  "language_info": {
   "codemirror_mode": {
    "name": "ipython",
    "version": 2
   },
   "file_extension": ".py",
   "mimetype": "text/x-python",
   "name": "python",
   "nbconvert_exporter": "python",
   "pygments_lexer": "ipython2",
   "version": "2.7.6"
  }
 },
 "nbformat": 4,
 "nbformat_minor": 0
}
