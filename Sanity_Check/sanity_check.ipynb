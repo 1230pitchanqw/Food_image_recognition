{
 "cells": [
  {
   "cell_type": "code",
   "execution_count": 1,
   "metadata": {
    "collapsed": true
   },
   "outputs": [],
   "source": [
    "import numpy as np\n",
    "import matplotlib.pyplot as plt\n",
    "from scipy import misc\n",
    "from sklearn.metrics.pairwise import cosine_similarity\n",
    "import sys\n",
    "sys.path.insert(0, '/home/long/Desktop/Final_Project/feats/Functions')\n",
    "from cnn_util import *\n",
    "import matplotlib.cm as cm"
   ]
  },
  {
   "cell_type": "code",
   "execution_count": 2,
   "metadata": {
    "collapsed": false
   },
   "outputs": [],
   "source": [
    "feat_path = '/home/long/Desktop/Final_Project/testing/feat/1.npy'\n",
    "test_image = '/home/long/Desktop/Food_caption/Less_data/testing/image/1.jpeg'\n",
    "feats = np.load(feat_path)\n",
    "feats = feats.reshape(512, 196).swapaxes(0,1)"
   ]
  },
  {
   "cell_type": "code",
   "execution_count": 184,
   "metadata": {
    "collapsed": true
   },
   "outputs": [],
   "source": [
    "feat_path2 = '/home/long/Desktop/Final_Project/testing/feat/3.npy'\n",
    "test_image2 = '/home/long/Desktop/Food_caption/Less_data/testing/image/3.jpeg'\n",
    "feats2 = np.load(feat_path2)\n",
    "feats2 = feats2.reshape(512, 196).swapaxes(0,1)"
   ]
  },
  {
   "cell_type": "code",
   "execution_count": 6,
   "metadata": {
    "collapsed": true
   },
   "outputs": [],
   "source": [
    "def show(top_k):\n",
    "    img = misc.imread(test_image)\n",
    "    plt.imshow(img)\n",
    "    alpha = np.zeros(196)\n",
    "    alpha[top_k]=1\n",
    "    alpha_img = skimage.transform.resize(alpha.reshape(14,14), [img.shape[0], img.shape[1]])\n",
    "    plt.imshow(alpha_img,  alpha=0.7)\n",
    "    plt.set_cmap(cm.Greys_r)\n",
    "    plt.show()"
   ]
  },
  {
   "cell_type": "code",
   "execution_count": 163,
   "metadata": {
    "collapsed": false
   },
   "outputs": [],
   "source": [
    "def cos_sim_feat(num1, num2):\n",
    "    return cosine_similarity(feats[num1], feats[num2])"
   ]
  },
  {
   "cell_type": "code",
   "execution_count": 4,
   "metadata": {
    "collapsed": true
   },
   "outputs": [],
   "source": [
    "def dot_product(num1,num2):\n",
    "    return np.matmul(feats[num1], feats2[num2])"
   ]
  },
  {
   "cell_type": "code",
   "execution_count": 186,
   "metadata": {
    "collapsed": false
   },
   "outputs": [],
   "source": [
    "sim = []\n",
    "for i in range(196):\n",
    "    sim.append(float(dot_product(75,i)))"
   ]
  },
  {
   "cell_type": "code",
   "execution_count": 187,
   "metadata": {
    "collapsed": false
   },
   "outputs": [],
   "source": [
    "ranked = np.array(sim).argsort()"
   ]
  },
  {
   "cell_type": "code",
   "execution_count": 12,
   "metadata": {
    "collapsed": false
   },
   "outputs": [],
   "source": [
    "show(71)"
   ]
  },
  {
   "cell_type": "code",
   "execution_count": null,
   "metadata": {
    "collapsed": true
   },
   "outputs": [],
   "source": []
  }
 ],
 "metadata": {
  "kernelspec": {
   "display_name": "Python 2",
   "language": "python",
   "name": "python2"
  },
  "language_info": {
   "codemirror_mode": {
    "name": "ipython",
    "version": 2
   },
   "file_extension": ".py",
   "mimetype": "text/x-python",
   "name": "python",
   "nbconvert_exporter": "python",
   "pygments_lexer": "ipython2",
   "version": "2.7.6"
  }
 },
 "nbformat": 4,
 "nbformat_minor": 0
}
